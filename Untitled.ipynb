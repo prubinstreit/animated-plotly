{
 "cells": [
  {
   "cell_type": "code",
   "execution_count": null,
   "id": "2fea83a2-367d-479e-bf9a-0b3b1a8d4b87",
   "metadata": {},
   "outputs": [
    {
     "name": "stdout",
     "output_type": "stream",
     "text": [
      "Dash is running on http://127.0.0.1:8050/\n",
      "\n",
      " * Serving Flask app '__main__' (lazy loading)\n",
      " * Environment: production\n",
      "\u001b[31m   WARNING: This is a development server. Do not use it in a production deployment.\u001b[0m\n",
      "\u001b[2m   Use a production WSGI server instead.\u001b[0m\n",
      " * Debug mode: off\n"
     ]
    },
    {
     "name": "stderr",
     "output_type": "stream",
     "text": [
      " * Running on http://127.0.0.1:8050/ (Press CTRL+C to quit)\n",
      "127.0.0.1 - - [09/May/2022 13:24:15] \"GET / HTTP/1.1\" 200 -\n",
      "127.0.0.1 - - [09/May/2022 13:24:15] \"GET /_dash-component-suites/dash/dcc/async-graph.js HTTP/1.1\" 304 -\n",
      "127.0.0.1 - - [09/May/2022 13:24:15] \"GET /_dash-component-suites/dash/dcc/async-dropdown.js HTTP/1.1\" 304 -\n",
      "127.0.0.1 - - [09/May/2022 13:24:15] \"GET /_dash-component-suites/dash/dcc/async-plotlyjs.js HTTP/1.1\" 304 -\n",
      "127.0.0.1 - - [09/May/2022 13:24:15] \"GET /_dash-dependencies HTTP/1.1\" 200 -\n",
      "127.0.0.1 - - [09/May/2022 13:24:15] \"GET /_dash-layout HTTP/1.1\" 200 -\n",
      "127.0.0.1 - - [09/May/2022 13:24:15] \"GET /_dash-component-suites/dash/dcc/async-dropdown.js HTTP/1.1\" 304 -\n",
      "127.0.0.1 - - [09/May/2022 13:24:15] \"GET /_dash-component-suites/dash/dcc/async-graph.js HTTP/1.1\" 304 -\n",
      "127.0.0.1 - - [09/May/2022 13:24:15] \"GET /_dash-component-suites/dash/dcc/async-plotlyjs.js HTTP/1.1\" 304 -\n",
      "127.0.0.1 - - [09/May/2022 13:24:15] \"POST /_dash-update-component HTTP/1.1\" 200 -\n",
      "127.0.0.1 - - [09/May/2022 13:24:24] \"POST /_dash-update-component HTTP/1.1\" 200 -\n"
     ]
    }
   ],
   "source": [
    "import pandas as pd\n",
    "import dash\n",
    "from dash import Dash, dcc, html, Input, Output\n",
    "import plotly.express as px\n",
    "import plotly.graph_objs as go\n",
    "#import os\n",
    "\n",
    "\n",
    "#os.chdir(\"/Users/Philip/Documents/NU Econ PhD/Scraper\")\n",
    "df = pd.read_csv(\"https://www.dropbox.com/s/vq24nrs4hkgygfe/dfMay-07.csv?dl=1\")\n",
    "options = df.columns\n",
    "\n",
    "app = Dash(__name__)\n",
    "server = app.server\n",
    "\n",
    "app.layout = html.Div([\n",
    "    #dcc.Graph(id = 'graph_dropdown'),\n",
    "    dcc.Dropdown(\n",
    "        id='xselection',\n",
    "        options=options,\n",
    "        value='Ancestry',\n",
    "    ),\n",
    "    dcc.Dropdown(\n",
    "        id='x2selection',\n",
    "        options=options,\n",
    "        value='Height',\n",
    "    ),\n",
    "   dcc.Loading(dcc.Graph(id=\"graph\"), type=\"graph\") #'graph', 'cube', 'circle', 'dot' or 'default';\n",
    "])\n",
    "\n",
    "@app.callback(\n",
    "  Output('graph', 'figure'),\n",
    "    [Input('xselection', 'value'),Input('x2selection', 'value')])\n",
    "\n",
    "def display_animated_graph(selection, newselection):\n",
    "    means = df.groupby(['{}'.format(selection), '{}'.format(newselection),\n",
    "                 'Date']).agg({'IUI Number': ['mean'], 'IUI ART Number': ['mean'],\n",
    "                                'ICI Number': ['mean'], 'ICI ART Number': ['mean']}).reset_index()\n",
    "    cols = ['{}'.format(selection), '{}'.format(newselection), 'Date','IUI Number',\n",
    "        'IUI ART Number', 'ICI Number','ICI ART Number']\n",
    "    means.columns = cols\n",
    "    means = means.reset_index(col_level =1)\n",
    "    animations =    px.bar(means, x = '{}'.format(selection), y = \"IUI Number\", \n",
    "               color = '{}'.format(newselection), animation_group = '{}'.format(selection),\n",
    "               animation_frame = 'Date', barmode='group', range_y=[0,11])\n",
    "    return animations\n",
    "\n",
    "\n",
    "\n",
    "\n",
    "if __name__ == '__main__':\n",
    "    app.run_server()"
   ]
  },
  {
   "cell_type": "code",
   "execution_count": null,
   "id": "c55dbf31-ee8e-4e8b-a137-0cf09210cc8f",
   "metadata": {},
   "outputs": [],
   "source": []
  }
 ],
 "metadata": {
  "kernelspec": {
   "display_name": "Python 3",
   "language": "python",
   "name": "python3"
  },
  "language_info": {
   "codemirror_mode": {
    "name": "ipython",
    "version": 3
   },
   "file_extension": ".py",
   "mimetype": "text/x-python",
   "name": "python",
   "nbconvert_exporter": "python",
   "pygments_lexer": "ipython3",
   "version": "3.8.13"
  }
 },
 "nbformat": 4,
 "nbformat_minor": 5
}
