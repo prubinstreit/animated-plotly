{
 "cells": [
  {
   "cell_type": "code",
   "execution_count": 1,
   "id": "2fea83a2-367d-479e-bf9a-0b3b1a8d4b87",
   "metadata": {},
   "outputs": [
    {
     "ename": "NameError",
     "evalue": "name 'df' is not defined",
     "output_type": "error",
     "traceback": [
      "\u001b[0;31m---------------------------------------------------------------------------\u001b[0m",
      "\u001b[0;31mNameError\u001b[0m                                 Traceback (most recent call last)",
      "\u001b[0;32m<ipython-input-1-9ffb4fc54a66>\u001b[0m in \u001b[0;36m<module>\u001b[0;34m\u001b[0m\n\u001b[1;32m      8\u001b[0m \u001b[0;34m\u001b[0m\u001b[0m\n\u001b[1;32m      9\u001b[0m \u001b[0;31m#os.chdir(\"/Users/Philip/Documents/NU Econ PhD/Scraper\")\u001b[0m\u001b[0;34m\u001b[0m\u001b[0;34m\u001b[0m\u001b[0;34m\u001b[0m\u001b[0m\n\u001b[0;32m---> 10\u001b[0;31m \u001b[0moptions\u001b[0m \u001b[0;34m=\u001b[0m \u001b[0mdf\u001b[0m\u001b[0;34m.\u001b[0m\u001b[0mcolumns\u001b[0m\u001b[0;34m\u001b[0m\u001b[0;34m\u001b[0m\u001b[0m\n\u001b[0m\u001b[1;32m     11\u001b[0m \u001b[0;34m\u001b[0m\u001b[0m\n\u001b[1;32m     12\u001b[0m \u001b[0mapp\u001b[0m \u001b[0;34m=\u001b[0m \u001b[0mdash\u001b[0m\u001b[0;34m.\u001b[0m\u001b[0mDash\u001b[0m\u001b[0;34m(\u001b[0m\u001b[0m__name__\u001b[0m\u001b[0;34m)\u001b[0m\u001b[0;34m\u001b[0m\u001b[0;34m\u001b[0m\u001b[0m\n",
      "\u001b[0;31mNameError\u001b[0m: name 'df' is not defined"
     ]
    }
   ],
   "source": [
    "import pandas as pd\n",
    "import dash\n",
    "from dash import Dash, dcc, html, Input, Output\n",
    "import plotly.express as px\n",
    "import plotly.graph_objs as go\n",
    "#import os\n",
    "\n",
    "\n",
    "#os.chdir(\"/Users/Philip/Documents/NU Econ PhD/Scraper\")\n",
    "options = df.columns\n",
    "\n",
    "app = dash.Dash(__name__)\n",
    "\n",
    "app.layout = html.Div([\n",
    "    #dcc.Graph(id = 'graph_dropdown'),\n",
    "    dcc.Dropdown(\n",
    "        id='xselection',\n",
    "        options=options,\n",
    "        value='Ancestry',\n",
    "    ),\n",
    "    dcc.Dropdown(\n",
    "        id='x2selection',\n",
    "        options=options,\n",
    "        value='Height',\n",
    "    ),\n",
    "   dcc.Loading(dcc.Graph(id=\"graph\"), type=\"graph\") #'graph', 'cube', 'circle', 'dot' or 'default';\n",
    "])\n",
    "\n",
    "@app.callback(\n",
    "  Output('graph', 'figure'),\n",
    "    [Input('xselection', 'value'),Input('x2selection', 'value')])\n",
    "\n",
    "def display_animated_graph(selection, newselection):\n",
    "    means = df.groupby(['{}'.format(selection), '{}'.format(newselection),\n",
    "                 'Date']).agg({'IUI Number': ['mean'], 'IUI ART Number': ['mean'],\n",
    "                                'ICI Number': ['mean'], 'ICI ART Number': ['mean']}).reset_index()\n",
    "    cols = ['{}'.format(selection), '{}'.format(newselection), 'Date','IUI Number',\n",
    "        'IUI ART Number', 'ICI Number','ICI ART Number']\n",
    "    means.columns = cols\n",
    "    means = means.reset_index(col_level =1)\n",
    "    animations =    px.bar(means, x = '{}'.format(selection), y = \"IUI Number\", \n",
    "               color = '{}'.format(newselection), animation_group = '{}'.format(selection),\n",
    "               animation_frame = 'Date', barmode='group', range_y=[0,11])\n",
    "    return animations\n",
    "\n",
    "\n",
    "\n",
    "\n",
    "if __name__ == '__main__':\n",
    "    app.run_server()\n",
    "\n"
   ]
  },
  {
   "cell_type": "code",
   "execution_count": null,
   "id": "c55dbf31-ee8e-4e8b-a137-0cf09210cc8f",
   "metadata": {},
   "outputs": [],
   "source": []
  }
 ],
 "metadata": {
  "kernelspec": {
   "display_name": "Python 3",
   "language": "python",
   "name": "python3"
  },
  "language_info": {
   "codemirror_mode": {
    "name": "ipython",
    "version": 3
   },
   "file_extension": ".py",
   "mimetype": "text/x-python",
   "name": "python",
   "nbconvert_exporter": "python",
   "pygments_lexer": "ipython3",
   "version": "3.8.13"
  }
 },
 "nbformat": 4,
 "nbformat_minor": 5
}
